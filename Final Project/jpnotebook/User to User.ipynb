{
 "cells": [
  {
   "cell_type": "code",
   "execution_count": 24,
   "metadata": {},
   "outputs": [],
   "source": [
    "# Import Package\n",
    "import pandas as pd\n",
    "from sklearn.metrics import pairwise_distances\n",
    "import random\n",
    "import pylab as plt"
   ]
  },
  {
   "cell_type": "code",
   "execution_count": 18,
   "metadata": {},
   "outputs": [],
   "source": [
    "# Randomly Generate a series of users data\n",
    "list_all_username = []\n",
    "for i in range(1,101):\n",
    "    list_all_username.append('test{0}'.format(str(i)))\n",
    "\n",
    "ite = range(1,101)\n",
    "item = [\"{:}\".format(x) for x in ite]\n",
    "\n",
    "user_liked_list = []\n",
    "for i in range(100):\n",
    "    each_user_liked_ite = random.sample(range(1,101),3)\n",
    "    mm = str(each_user_liked_ite[0])+','+str(each_user_liked_ite[1])+','+str(each_user_liked_ite[2])\n",
    "    user_liked_list.append(mm)"
   ]
  },
  {
   "cell_type": "code",
   "execution_count": 21,
   "metadata": {},
   "outputs": [
    {
     "name": "stderr",
     "output_type": "stream",
     "text": [
      "/Users/owner/anaconda3/lib/python3.6/site-packages/ipykernel_launcher.py:10: FutureWarning: set_value is deprecated and will be removed in a future release. Please use .at[] or .iat[] accessors instead\n",
      "  # Remove the CWD from sys.path while we load stuff.\n"
     ]
    }
   ],
   "source": [
    "# Generate the \"0-1\" Matrix and Compute Cosine Similarity\n",
    "df = pd.DataFrame(0, index=list_all_username, columns=item)\n",
    "length_of_users = 0\n",
    "\n",
    "for i in list_all_username:\n",
    "    for index, row in df.iterrows():\n",
    "        if user_liked_list[length_of_users] != None:\n",
    "            for s in user_liked_list[length_of_users].split(','):\n",
    "                if s in row:\n",
    "                    df.set_value(i, s, 1)\n",
    "    length_of_users = length_of_users+1\n",
    "        # Compute User to User consine distance\n",
    "    user_user = 1-pairwise_distances(df, metric=\"cosine\")\n",
    "    df_users = pd.DataFrame(user_user, columns=df.index, index=df.index)"
   ]
  },
  {
   "cell_type": "code",
   "execution_count": 27,
   "metadata": {},
   "outputs": [
    {
     "data": {
      "text/plain": [
       "<matplotlib.axes._subplots.AxesSubplot at 0x11a5c40f0>"
      ]
     },
     "execution_count": 27,
     "metadata": {},
     "output_type": "execute_result"
    },
    {
     "data": {
      "image/png": "[encoded data removed]",
      "text/plain": [
       "<matplotlib.figure.Figure at 0x11a5d1400>"
      ]
     },
     "metadata": {},
     "output_type": "display_data"
    }
   ],
   "source": [
    "import seaborn as sns\n",
    "corr = df_users[0:20][df_users.columns[0:20]]\n",
    "plt.figure(figsize=(8,8))\n",
    "sns.heatmap(corr, \n",
    "            xticklabels=corr.columns.values,\n",
    "            yticklabels=corr.columns.values)"
   ]
  },
  {
   "cell_type": "code",
   "execution_count": 29,
   "metadata": {},
   "outputs": [
    {
     "name": "stdout",
     "output_type": "stream",
     "text": [
      "50,98,46\n",
      "50,98,71\n"
     ]
    }
   ],
   "source": [
    "print(user_liked_list[5])\n",
    "print(user_liked_list[17])"
   ]
  },
  {
   "cell_type": "code",
   "execution_count": 30,
   "metadata": {},
   "outputs": [
    {
     "data": {
      "text/html": [
       "<div>\n",
       "<style scoped>\n",
       "    .dataframe tbody tr th:only-of-type {\n",
       "        vertical-align: middle;\n",
       "    }\n",
       "\n",
       "    .dataframe tbody tr th {\n",
       "        vertical-align: top;\n",
       "    }\n",
       "\n",
       "    .dataframe thead th {\n",
       "        text-align: right;\n",
       "    }\n",
       "</style>\n",
       "<table border=\"1\" class=\"dataframe\">\n",
       "  <thead>\n",
       "    <tr style=\"text-align: right;\">\n",
       "      <th></th>\n",
       "      <th>test1</th>\n",
       "      <th>test2</th>\n",
       "      <th>test3</th>\n",
       "      <th>test4</th>\n",
       "      <th>test5</th>\n",
       "      <th>test6</th>\n",
       "      <th>test7</th>\n",
       "      <th>test8</th>\n",
       "      <th>test9</th>\n",
       "      <th>test10</th>\n",
       "      <th>...</th>\n",
       "      <th>test91</th>\n",
       "      <th>test92</th>\n",
       "      <th>test93</th>\n",
       "      <th>test94</th>\n",
       "      <th>test95</th>\n",
       "      <th>test96</th>\n",
       "      <th>test97</th>\n",
       "      <th>test98</th>\n",
       "      <th>test99</th>\n",
       "      <th>test100</th>\n",
       "    </tr>\n",
       "  </thead>\n",
       "  <tbody>\n",
       "    <tr>\n",
       "      <th>test1</th>\n",
       "      <td>1.0</td>\n",
       "      <td>0.000000</td>\n",
       "      <td>0.000000</td>\n",
       "      <td>0.0</td>\n",
       "      <td>0.0</td>\n",
       "      <td>0.0</td>\n",
       "      <td>0.0</td>\n",
       "      <td>0.0</td>\n",
       "      <td>0.000000</td>\n",
       "      <td>0.0</td>\n",
       "      <td>...</td>\n",
       "      <td>0.000000</td>\n",
       "      <td>0.0</td>\n",
       "      <td>0.0</td>\n",
       "      <td>0.000000</td>\n",
       "      <td>0.0</td>\n",
       "      <td>0.0</td>\n",
       "      <td>0.0</td>\n",
       "      <td>0.0</td>\n",
       "      <td>0.0</td>\n",
       "      <td>0.0</td>\n",
       "    </tr>\n",
       "    <tr>\n",
       "      <th>test2</th>\n",
       "      <td>0.0</td>\n",
       "      <td>1.000000</td>\n",
       "      <td>0.333333</td>\n",
       "      <td>0.0</td>\n",
       "      <td>0.0</td>\n",
       "      <td>0.0</td>\n",
       "      <td>0.0</td>\n",
       "      <td>0.0</td>\n",
       "      <td>0.333333</td>\n",
       "      <td>0.0</td>\n",
       "      <td>...</td>\n",
       "      <td>0.333333</td>\n",
       "      <td>0.0</td>\n",
       "      <td>0.0</td>\n",
       "      <td>0.333333</td>\n",
       "      <td>0.0</td>\n",
       "      <td>0.0</td>\n",
       "      <td>0.0</td>\n",
       "      <td>0.0</td>\n",
       "      <td>0.0</td>\n",
       "      <td>0.0</td>\n",
       "    </tr>\n",
       "    <tr>\n",
       "      <th>test3</th>\n",
       "      <td>0.0</td>\n",
       "      <td>0.333333</td>\n",
       "      <td>1.000000</td>\n",
       "      <td>0.0</td>\n",
       "      <td>0.0</td>\n",
       "      <td>0.0</td>\n",
       "      <td>0.0</td>\n",
       "      <td>0.0</td>\n",
       "      <td>0.333333</td>\n",
       "      <td>0.0</td>\n",
       "      <td>...</td>\n",
       "      <td>0.000000</td>\n",
       "      <td>0.0</td>\n",
       "      <td>0.0</td>\n",
       "      <td>0.000000</td>\n",
       "      <td>0.0</td>\n",
       "      <td>0.0</td>\n",
       "      <td>0.0</td>\n",
       "      <td>0.0</td>\n",
       "      <td>0.0</td>\n",
       "      <td>0.0</td>\n",
       "    </tr>\n",
       "    <tr>\n",
       "      <th>test4</th>\n",
       "      <td>0.0</td>\n",
       "      <td>0.000000</td>\n",
       "      <td>0.000000</td>\n",
       "      <td>1.0</td>\n",
       "      <td>0.0</td>\n",
       "      <td>0.0</td>\n",
       "      <td>0.0</td>\n",
       "      <td>0.0</td>\n",
       "      <td>0.000000</td>\n",
       "      <td>0.0</td>\n",
       "      <td>...</td>\n",
       "      <td>0.000000</td>\n",
       "      <td>0.0</td>\n",
       "      <td>0.0</td>\n",
       "      <td>0.000000</td>\n",
       "      <td>0.0</td>\n",
       "      <td>0.0</td>\n",
       "      <td>0.0</td>\n",
       "      <td>0.0</td>\n",
       "      <td>0.0</td>\n",
       "      <td>0.0</td>\n",
       "    </tr>\n",
       "    <tr>\n",
       "      <th>test5</th>\n",
       "      <td>0.0</td>\n",
       "      <td>0.000000</td>\n",
       "      <td>0.000000</td>\n",
       "      <td>0.0</td>\n",
       "      <td>1.0</td>\n",
       "      <td>0.0</td>\n",
       "      <td>0.0</td>\n",
       "      <td>0.0</td>\n",
       "      <td>0.000000</td>\n",
       "      <td>0.0</td>\n",
       "      <td>...</td>\n",
       "      <td>0.000000</td>\n",
       "      <td>0.0</td>\n",
       "      <td>0.0</td>\n",
       "      <td>0.000000</td>\n",
       "      <td>0.0</td>\n",
       "      <td>0.0</td>\n",
       "      <td>0.0</td>\n",
       "      <td>0.0</td>\n",
       "      <td>0.0</td>\n",
       "      <td>0.0</td>\n",
       "    </tr>\n",
       "  </tbody>\n",
       "</table>\n",
       "<p>5 rows × 100 columns</p>\n",
       "</div>"
      ],
      "text/plain": [
       "       test1     test2     test3  test4  test5  test6  test7  test8     test9  \\\n",
       "test1    1.0  0.000000  0.000000    0.0    0.0    0.0    0.0    0.0  0.000000   \n",
       "test2    0.0  1.000000  0.333333    0.0    0.0    0.0    0.0    0.0  0.333333   \n",
       "test3    0.0  0.333333  1.000000    0.0    0.0    0.0    0.0    0.0  0.333333   \n",
       "test4    0.0  0.000000  0.000000    1.0    0.0    0.0    0.0    0.0  0.000000   \n",
       "test5    0.0  0.000000  0.000000    0.0    1.0    0.0    0.0    0.0  0.000000   \n",
       "\n",
       "       test10   ...       test91  test92  test93    test94  test95  test96  \\\n",
       "test1     0.0   ...     0.000000     0.0     0.0  0.000000     0.0     0.0   \n",
       "test2     0.0   ...     0.333333     0.0     0.0  0.333333     0.0     0.0   \n",
       "test3     0.0   ...     0.000000     0.0     0.0  0.000000     0.0     0.0   \n",
       "test4     0.0   ...     0.000000     0.0     0.0  0.000000     0.0     0.0   \n",
       "test5     0.0   ...     0.000000     0.0     0.0  0.000000     0.0     0.0   \n",
       "\n",
       "       test97  test98  test99  test100  \n",
       "test1     0.0     0.0     0.0      0.0  \n",
       "test2     0.0     0.0     0.0      0.0  \n",
       "test3     0.0     0.0     0.0      0.0  \n",
       "test4     0.0     0.0     0.0      0.0  \n",
       "test5     0.0     0.0     0.0      0.0  \n",
       "\n",
       "[5 rows x 100 columns]"
      ]
     },
     "execution_count": 30,
     "metadata": {},
     "output_type": "execute_result"
    }
   ],
   "source": [
    "df_users.head()"
   ]
  },
  {
   "cell_type": "code",
   "execution_count": null,
   "metadata": {},
   "outputs": [],
   "source": []
  }
 ],
 "metadata": {
  "kernelspec": {
   "display_name": "Python 3",
   "language": "python",
   "name": "python3"
  },
  "language_info": {
   "codemirror_mode": {
    "name": "ipython",
    "version": 3
   },
   "file_extension": ".py",
   "mimetype": "text/x-python",
   "name": "python",
   "nbconvert_exporter": "python",
   "pygments_lexer": "ipython3",
   "version": "3.6.4"
  }
 },
 "nbformat": 4,
 "nbformat_minor": 2
}
